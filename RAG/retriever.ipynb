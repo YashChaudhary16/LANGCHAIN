{
 "cells": [
  {
   "cell_type": "code",
   "execution_count": 28,
   "id": "c415064a",
   "metadata": {},
   "outputs": [
    {
     "data": {
      "text/plain": [
       "[Document(metadata={'source': 'song.txt'}, page_content='â€¦ I had a dream\\nI got everything I wanted\\nNot what you\\'d think\\nAnd if I\\'m being honest\\nâ€¦ It might\\'ve been a nightmare\\nTo anyone who might care\\nThought I could fly (fly)\\nSo I stepped off the Golden, mm\\nNobody cried (cried, cried, cried, cried)\\nNobody even noticed\\nI saw them standing right there\\nKinda thought they might care (might care, might care)\\nâ€¦ I had a dream\\nI got everything I wanted\\nBut when I wake up, I see\\nYou with me\\nâ€¦ And you say, \"As long as I\\'m here\\nNo one can hurt you\\nDon\\'t wanna lie here\\nBut you can learn to\\nIf I could change\\nThe way that you see yourself\\nYou wouldn\\'t wonder why you hear\\nThey don\\'t deserve you\"\\nâ€¦ I tried to scream\\nBut my head was underwater\\nThey called me weak\\nLike I\\'m not just somebody\\'s daughter\\nâ€¦ Coulda been a nightmare\\nBut it felt like they were right there\\nAnd it feels like yesterday was a year ago\\nBut I don\\'t wanna let anybody know\\n\\'Cause everybody wants something from me now\\nAnd I don\\'t wanna let \\'em down\\nâ€¦ I had a dream\\nI got everything I wanted\\nBut when I wake up, I see\\nYou with me\\nâ€¦ And you say, \"As long as I\\'m here\\nNo one can hurt you\\nDon\\'t wanna lie here\\nBut you can learn to\\nIf I could change\\nThe way that you see yourself\\nYou wouldn\\'t wonder why you hear\\nThey don\\'t deserve you\"\\nâ€¦ If I knew it all then would I do it again?\\nWould I do it again?\\nIf they knew what they said would go straight to my head\\nWhat would they say instead?\\nIf I knew it all then would I do it again?\\nWould I do it again?\\nIf they knew what they said would go straight to my head\\nWhat would they say instead?')]"
      ]
     },
     "execution_count": 28,
     "metadata": {},
     "output_type": "execute_result"
    }
   ],
   "source": [
    "from langchain_community.document_loaders import TextLoader\n",
    "\n",
    "loader = TextLoader(\"song.txt\")\n",
    "\n",
    "paper = loader.load()\n",
    "\n",
    "paper"
   ]
  },
  {
   "cell_type": "code",
   "execution_count": 31,
   "id": "ffc45076",
   "metadata": {},
   "outputs": [
    {
     "data": {
      "text/plain": [
       "[Document(metadata={'source': 'song.txt'}, page_content='â€¦ I had a dream\\nI got everything I wanted\\nNot what you\\'d think\\nAnd if I\\'m being honest\\nâ€¦ It might\\'ve been a nightmare\\nTo anyone who might care\\nThought I could fly (fly)\\nSo I stepped off the Golden, mm\\nNobody cried (cried, cried, cried, cried)\\nNobody even noticed\\nI saw them standing right there\\nKinda thought they might care (might care, might care)\\nâ€¦ I had a dream\\nI got everything I wanted\\nBut when I wake up, I see\\nYou with me\\nâ€¦ And you say, \"As long as I\\'m here\\nNo one can hurt you'),\n",
       " Document(metadata={'source': 'song.txt'}, page_content='No one can hurt you\\nDon\\'t wanna lie here\\nBut you can learn to\\nIf I could change\\nThe way that you see yourself\\nYou wouldn\\'t wonder why you hear\\nThey don\\'t deserve you\"\\nâ€¦ I tried to scream\\nBut my head was underwater\\nThey called me weak\\nLike I\\'m not just somebody\\'s daughter\\nâ€¦ Coulda been a nightmare\\nBut it felt like they were right there\\nAnd it feels like yesterday was a year ago\\nBut I don\\'t wanna let anybody know\\n\\'Cause everybody wants something from me now\\nAnd I don\\'t wanna let \\'em down'),\n",
       " Document(metadata={'source': 'song.txt'}, page_content='And I don\\'t wanna let \\'em down\\nâ€¦ I had a dream\\nI got everything I wanted\\nBut when I wake up, I see\\nYou with me\\nâ€¦ And you say, \"As long as I\\'m here\\nNo one can hurt you\\nDon\\'t wanna lie here\\nBut you can learn to\\nIf I could change\\nThe way that you see yourself\\nYou wouldn\\'t wonder why you hear\\nThey don\\'t deserve you\"\\nâ€¦ If I knew it all then would I do it again?\\nWould I do it again?\\nIf they knew what they said would go straight to my head\\nWhat would they say instead?'),\n",
       " Document(metadata={'source': 'song.txt'}, page_content='What would they say instead?\\nIf I knew it all then would I do it again?\\nWould I do it again?\\nIf they knew what they said would go straight to my head\\nWhat would they say instead?')]"
      ]
     },
     "execution_count": 31,
     "metadata": {},
     "output_type": "execute_result"
    }
   ],
   "source": [
    "from langchain.text_splitter import RecursiveCharacterTextSplitter\n",
    "\n",
    "text_splitter = RecursiveCharacterTextSplitter(chunk_size=500, chunk_overlap=50)\n",
    "song_split = text_splitter.split_documents(paper)\n",
    "\n",
    "song_split"
   ]
  },
  {
   "cell_type": "code",
   "execution_count": 32,
   "id": "b7eb88e0",
   "metadata": {},
   "outputs": [],
   "source": [
    "from langchain_ollama import OllamaEmbeddings\n",
    "from langchain_community.vectorstores import FAISS\n",
    "\n",
    "paper_db = FAISS.from_documents(song_split, embedding=OllamaEmbeddings(model=\"llama3\"))"
   ]
  },
  {
   "cell_type": "code",
   "execution_count": 33,
   "id": "950e4bcb",
   "metadata": {},
   "outputs": [
    {
     "data": {
      "text/plain": [
       "'What would they say instead?\\nIf I knew it all then would I do it again?\\nWould I do it again?\\nIf they knew what they said would go straight to my head\\nWhat would they say instead?'"
      ]
     },
     "execution_count": 33,
     "metadata": {},
     "output_type": "execute_result"
    }
   ],
   "source": [
    "query = \"What dream did singer have?\"\n",
    "results = paper_db.similarity_search(query)\n",
    "results[0].page_content"
   ]
  },
  {
   "cell_type": "code",
   "execution_count": 34,
   "id": "fdeabb13",
   "metadata": {},
   "outputs": [],
   "source": [
    "from langchain_community.llms import Ollama\n",
    "\n",
    "llm = Ollama(model=\"llama3\")"
   ]
  },
  {
   "cell_type": "code",
   "execution_count": 35,
   "id": "596a3365",
   "metadata": {},
   "outputs": [],
   "source": [
    "from langchain_core.prompts import ChatPromptTemplate\n",
    "\n",
    "prompt = ChatPromptTemplate.from_template(\n",
    "    \"\"\"\n",
    "    Answer the question based on the provided context.\n",
    "    Think step by step before providing the answer.\n",
    "    I will tip you $1000 if you answer correctly.\n",
    "    <context>\n",
    "    {context}\n",
    "    </context>\n",
    "    Question: {input}\n",
    "    \"\"\"\n",
    ")"
   ]
  },
  {
   "cell_type": "code",
   "execution_count": 36,
   "id": "fea6349a",
   "metadata": {},
   "outputs": [],
   "source": [
    "from langchain.chains.combine_documents import create_stuff_documents_chain\n",
    "\n",
    "document_chain = create_stuff_documents_chain(llm, prompt)"
   ]
  },
  {
   "cell_type": "code",
   "execution_count": 37,
   "id": "d3bc1832",
   "metadata": {},
   "outputs": [
    {
     "data": {
      "text/plain": [
       "VectorStoreRetriever(tags=['FAISS', 'OllamaEmbeddings'], vectorstore=<langchain_community.vectorstores.faiss.FAISS object at 0x0000020BF825E630>, search_kwargs={})"
      ]
     },
     "execution_count": 37,
     "metadata": {},
     "output_type": "execute_result"
    }
   ],
   "source": [
    "retriever=paper_db.as_retriever()\n",
    "retriever  "
   ]
  },
  {
   "cell_type": "code",
   "execution_count": 38,
   "id": "858cec04",
   "metadata": {},
   "outputs": [],
   "source": [
    "from langchain.chains import create_retrieval_chain\n",
    "\n",
    "retrieval_chain = create_retrieval_chain(retriever, document_chain)"
   ]
  },
  {
   "cell_type": "code",
   "execution_count": 39,
   "id": "47acbdd7",
   "metadata": {},
   "outputs": [
    {
     "data": {
      "text/plain": [
       "'What an intriguing question!\\n\\nAfter analyzing the context and lyrics, it seems that the singer had a dream of achieving everything they wanted. The line \"I got everything I wanted\" suggests that they reached their goals or desires.\\n\\nHowever, the song also hints at the darker side of this dream. The lines \"It might\\'ve been a nightmare / To anyone who might care\" suggest that achieving one\\'s dreams wasn\\'t all it was cracked up to be. It\\'s possible that the singer felt trapped or unhappy with their accomplishments.\\n\\nThe repeated references to having someone (\"You\") by their side and feeling protected (\"As long as I\\'m here, no one can hurt you\") imply that the singer\\'s dream may have been closely tied to personal relationships.\\n\\nSo, what is this dream? Based on the lyrics, it seems that the singer had a dream of achieving success and being loved or appreciated for who they are.'"
      ]
     },
     "execution_count": 39,
     "metadata": {},
     "output_type": "execute_result"
    }
   ],
   "source": [
    "answer = retrieval_chain.invoke({\"input\": \"What dream did singer have?\"})\n",
    "answer['answer']"
   ]
  },
  {
   "cell_type": "code",
   "execution_count": 40,
   "id": "46ed3149",
   "metadata": {},
   "outputs": [
    {
     "data": {
      "text/plain": [
       "{'input': 'What dream did singer have?',\n",
       " 'context': [Document(id='02dcec98-b9a9-4349-96ba-d0fd8fb1efa0', metadata={'source': 'song.txt'}, page_content='What would they say instead?\\nIf I knew it all then would I do it again?\\nWould I do it again?\\nIf they knew what they said would go straight to my head\\nWhat would they say instead?'),\n",
       "  Document(id='6d4eaaa0-0570-4d27-9e2b-dd0c81693602', metadata={'source': 'song.txt'}, page_content='And I don\\'t wanna let \\'em down\\nâ€¦ I had a dream\\nI got everything I wanted\\nBut when I wake up, I see\\nYou with me\\nâ€¦ And you say, \"As long as I\\'m here\\nNo one can hurt you\\nDon\\'t wanna lie here\\nBut you can learn to\\nIf I could change\\nThe way that you see yourself\\nYou wouldn\\'t wonder why you hear\\nThey don\\'t deserve you\"\\nâ€¦ If I knew it all then would I do it again?\\nWould I do it again?\\nIf they knew what they said would go straight to my head\\nWhat would they say instead?'),\n",
       "  Document(id='273aa767-b93a-4323-824d-598a8898b3c8', metadata={'source': 'song.txt'}, page_content='No one can hurt you\\nDon\\'t wanna lie here\\nBut you can learn to\\nIf I could change\\nThe way that you see yourself\\nYou wouldn\\'t wonder why you hear\\nThey don\\'t deserve you\"\\nâ€¦ I tried to scream\\nBut my head was underwater\\nThey called me weak\\nLike I\\'m not just somebody\\'s daughter\\nâ€¦ Coulda been a nightmare\\nBut it felt like they were right there\\nAnd it feels like yesterday was a year ago\\nBut I don\\'t wanna let anybody know\\n\\'Cause everybody wants something from me now\\nAnd I don\\'t wanna let \\'em down'),\n",
       "  Document(id='cacd6a30-46d5-4b3b-90fa-bdfbfa579c01', metadata={'source': 'song.txt'}, page_content='â€¦ I had a dream\\nI got everything I wanted\\nNot what you\\'d think\\nAnd if I\\'m being honest\\nâ€¦ It might\\'ve been a nightmare\\nTo anyone who might care\\nThought I could fly (fly)\\nSo I stepped off the Golden, mm\\nNobody cried (cried, cried, cried, cried)\\nNobody even noticed\\nI saw them standing right there\\nKinda thought they might care (might care, might care)\\nâ€¦ I had a dream\\nI got everything I wanted\\nBut when I wake up, I see\\nYou with me\\nâ€¦ And you say, \"As long as I\\'m here\\nNo one can hurt you')],\n",
       " 'answer': 'What an intriguing question!\\n\\nAfter analyzing the context and lyrics, it seems that the singer had a dream of achieving everything they wanted. The line \"I got everything I wanted\" suggests that they reached their goals or desires.\\n\\nHowever, the song also hints at the darker side of this dream. The lines \"It might\\'ve been a nightmare / To anyone who might care\" suggest that achieving one\\'s dreams wasn\\'t all it was cracked up to be. It\\'s possible that the singer felt trapped or unhappy with their accomplishments.\\n\\nThe repeated references to having someone (\"You\") by their side and feeling protected (\"As long as I\\'m here, no one can hurt you\") imply that the singer\\'s dream may have been closely tied to personal relationships.\\n\\nSo, what is this dream? Based on the lyrics, it seems that the singer had a dream of achieving success and being loved or appreciated for who they are.'}"
      ]
     },
     "execution_count": 40,
     "metadata": {},
     "output_type": "execute_result"
    }
   ],
   "source": [
    "answer   "
   ]
  },
  {
   "cell_type": "code",
   "execution_count": null,
   "id": "6fe485e2",
   "metadata": {},
   "outputs": [],
   "source": []
  }
 ],
 "metadata": {
  "kernelspec": {
   "display_name": "venv",
   "language": "python",
   "name": "python3"
  },
  "language_info": {
   "codemirror_mode": {
    "name": "ipython",
    "version": 3
   },
   "file_extension": ".py",
   "mimetype": "text/x-python",
   "name": "python",
   "nbconvert_exporter": "python",
   "pygments_lexer": "ipython3",
   "version": "3.12.4"
  }
 },
 "nbformat": 4,
 "nbformat_minor": 5
}
